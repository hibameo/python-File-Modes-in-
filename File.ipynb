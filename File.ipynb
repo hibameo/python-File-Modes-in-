{
  "nbformat": 4,
  "nbformat_minor": 0,
  "metadata": {
    "colab": {
      "provenance": [],
      "include_colab_link": true
    },
    "kernelspec": {
      "name": "python3",
      "display_name": "Python 3"
    },
    "language_info": {
      "name": "python"
    }
  },
  "cells": [
    {
      "cell_type": "markdown",
      "metadata": {
        "id": "view-in-github",
        "colab_type": "text"
      },
      "source": [
        "<a href=\"https://colab.research.google.com/github/hibameo/python-File-Modes-in-/blob/main/File.ipynb\" target=\"_parent\"><img src=\"https://colab.research.google.com/assets/colab-badge.svg\" alt=\"Open In Colab\"/></a>"
      ]
    },
    {
      "cell_type": "markdown",
      "source": [
        "***File Modes in Python***\n",
        "\n",
        "The open() function can open files in different modes:\n",
        "\n",
        "Mode\tDescription\n",
        "\n",
        "'r'\tRead mode (opens an existing file for reading)\n",
        "\n",
        "'w'\tWrite mode (creates a new file or overwrites an existing file)\n",
        "\n",
        "'a'\tAppend mode (adds new data to the end of the file)\n",
        "\n",
        "'x'\tExclusive creation mode (creates a new file, but gives an error if it already exists)\n",
        "\n",
        "'b'\tBinary mode (for handling non-text files like images)\n",
        "\n",
        "'t'\tText mode (default mode for handling text files)"
      ],
      "metadata": {
        "id": "0Ww3Q7f_aJ8K"
      }
    },
    {
      "cell_type": "code",
      "execution_count": 2,
      "metadata": {
        "id": "inoOFZlsY3T8"
      },
      "outputs": [],
      "source": [
        "# Creating and writing to a file\n",
        "file = open(\"example.txt\", \"w\")\n",
        "file.write(\"Hello, this is a sample text file.\")\n",
        "file.close()\n"
      ]
    },
    {
      "cell_type": "markdown",
      "source": [
        "***Important File Handling Functions in Python***\n",
        "\n",
        "open(filename, mode) → Opens a file\n",
        "\n",
        "write(text) → Writes data to the file\n",
        "\n",
        "read(size) → Reads data from the file\n",
        "\n",
        "readline() → Reads one line from the file\n",
        "\n",
        "readlines() → Reads all lines and returns them as a list\n",
        "\n",
        "close() → Closes the\n",
        "\n",
        "seek(position) → Moves the cursor to a specific position in the file\n",
        "\n",
        "tell() → Returns the current cursor position in the file"
      ],
      "metadata": {
        "id": "S6z-YLEra9ay"
      }
    },
    {
      "cell_type": "code",
      "source": [
        "# Writing to a file\n",
        "with open(\"example.txt\", \"w\") as file:\n",
        "    file.write(\"This is a test file.\\n\")\n",
        "    file.write(\"We are learning Python file handling.\")\n",
        "\n",
        "# Reading from a file\n",
        "with open(\"example.txt\", \"r\") as file:\n",
        "    content = file.read()\n",
        "    print(content)\n"
      ],
      "metadata": {
        "colab": {
          "base_uri": "https://localhost:8080/"
        },
        "id": "ePvN1krPaI9C",
        "outputId": "6c9182e0-2055-4a1a-de95-b69b77622703"
      },
      "execution_count": 1,
      "outputs": [
        {
          "output_type": "stream",
          "name": "stdout",
          "text": [
            "This is a test file.\n",
            "We are learning Python file handling.\n"
          ]
        }
      ]
    }
  ]
}